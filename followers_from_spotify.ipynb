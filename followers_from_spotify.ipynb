{
 "cells": [
  {
   "cell_type": "code",
   "execution_count": 18,
   "id": "fa713ee6-29fe-49cb-8944-782ca22c1ecd",
   "metadata": {},
   "outputs": [
    {
     "name": "stdout",
     "output_type": "stream",
     "text": [
      "Monthly followers for Nirvana: 19987286\n"
     ]
    },
    {
     "data": {
      "text/plain": [
       "{'Name': 'Nirvana',\n",
       " 'Popularity': 82,\n",
       " 'Followers': 19987286,\n",
       " 'Genres': ['grunge', 'permanent wave', 'rock'],\n",
       " 'ID': '6olE6TJLqED3rqDCT0FyPh',\n",
       " 'URI': 'spotify:artist:6olE6TJLqED3rqDCT0FyPh',\n",
       " 'Monthly Listeners (estimate)': 82000.0}"
      ]
     },
     "execution_count": 18,
     "metadata": {},
     "output_type": "execute_result"
    }
   ],
   "source": [
    "import requests\n",
    "from bs4 import BeautifulSoup\n",
    "from spotipy import Spotify\n",
    "from spotipy.oauth2 import SpotifyClientCredentials\n",
    "import re\n",
    "\n",
    "client_id = '603946219755489fb6f630fdc8836113'\n",
    "client_secret = 'a1cee47a6da74874a7623e9d9764beae'\n",
    "\n",
    "auth_manager = SpotifyClientCredentials(client_id=client_id, client_secret=client_secret)\n",
    "sp = Spotify(auth_manager=auth_manager)\n",
    "\n",
    "# Function to get monthly followers for a given artist name\n",
    "def get_monthly_followers(artist_name):\n",
    "    result = sp.search(q='artist:' + artist_name, type='artist')\n",
    "    if result['artists']['items']:\n",
    "        artist = result['artists']['items'][0]\n",
    "        return artist['followers']['total']\n",
    "    else:\n",
    "        return f\"Artist {artist_name} not found.\"\n",
    "\n",
    "# Function to get monthly listeners for an artist\n",
    "def get_monthly_listeners(artist_name):\n",
    "    result = sp.search(q='artist:' + artist_name, type='artist')\n",
    "    if result['artists']['items']:\n",
    "        artist_uri = result['artists']['items'][0]['uri']\n",
    "        artist_url = f\"https://open.spotify.com/artist/{artist_uri.split(':')[2]}\"\n",
    "        response = requests.get(artist_url)\n",
    "        soup = BeautifulSoup(response.text, 'html.parser')\n",
    "\n",
    "        # usually let's try to utilize regex for number like cases\n",
    "        # most of the stat data shared within span or meta with data-\n",
    "        monthly_listeners = soup.find(\"span\", string=re.compile(r'\\d+.*monthly')).text.strip()\n",
    "        return monthly_listeners\n",
    "    else:\n",
    "        return f\"Artist {artist_name} not found.\"\n",
    "\n",
    "        # Fonction pour rechercher artiste et obtenir informations\n",
    "def get_artist_details(artist_name):\n",
    "    result = sp.search(q='artist:' + artist_name, type='artist')\n",
    "    if result['artists']['items']:\n",
    "        artist = result['artists']['items'][0]\n",
    "        artist_uri = artist['uri']\n",
    "        artist_info = sp.artist(artist_uri)\n",
    "        return {\n",
    "            'Name': artist_info['name'],\n",
    "            'Popularity': artist_info['popularity'],\n",
    "            'Followers': artist_info['followers']['total'],\n",
    "            'Genres': artist_info['genres'],\n",
    "            'ID': artist_info['id'],\n",
    "            'URI': artist_uri,\n",
    "            'Monthly Listeners (estimate)': estimate_monthly_listeners(artist_info['popularity'])\n",
    "        }\n",
    "    else:\n",
    "        return f\"Artiste {artist_name} non trouvé.\"\n",
    "\n",
    "# Fonction pour estimer les auditeurs mensuels basés sur la popularité\n",
    "# Note: Cela ne donnera qu'une estimation basée sur une heuristique commune, non officiel\n",
    "def estimate_monthly_listeners(popularity):\n",
    "    base_listeners = 100000  # Basez cela sur la moyenne normale pour comprendre l'écouter par popularité score\n",
    "    return base_listeners * (popularity / 100.0)\n",
    "\n",
    "# Example usage\n",
    "artist_name = 'Nirvana'\n",
    "# monthly_listeners = get_monthly_listeners(artist_name)\n",
    "monthly_followers = get_monthly_followers(artist_name)\n",
    "\n",
    "# print(f'Monthly listeners for {artist_name}: {monthly_listeners}')\n",
    "print(f'Monthly followers for {artist_name}: {monthly_followers}')\n",
    "get_artist_details(artist_name)"
   ]
  },
  {
   "cell_type": "code",
   "execution_count": 1,
   "id": "58548233-6194-4561-bbcc-1f069434506b",
   "metadata": {},
   "outputs": [
    {
     "name": "stdout",
     "output_type": "stream",
     "text": [
      "Monthly followers for Nirvana: 19987286\n"
     ]
    },
    {
     "data": {
      "text/plain": [
       "{'Name': 'Nirvana',\n",
       " 'Popularity': 82,\n",
       " 'Followers': 19987286,\n",
       " 'Genres': ['grunge', 'permanent wave', 'rock'],\n",
       " 'ID': '6olE6TJLqED3rqDCT0FyPh',\n",
       " 'URI': 'spotify:artist:6olE6TJLqED3rqDCT0FyPh'}"
      ]
     },
     "execution_count": 1,
     "metadata": {},
     "output_type": "execute_result"
    }
   ],
   "source": [
    "import requests\n",
    "from spotipy import Spotify\n",
    "from spotipy.oauth2 import SpotifyClientCredentials\n",
    "\n",
    "client_id = '603946219755489fb6f630fdc8836113'\n",
    "client_secret = 'a1cee47a6da74874a7623e9d9764beae'\n",
    "\n",
    "auth_manager = SpotifyClientCredentials(client_id=client_id, client_secret=client_secret)\n",
    "sp = Spotify(auth_manager=auth_manager)\n",
    "\n",
    "# Function to get monthly followers for a given artist name\n",
    "def get_monthly_followers(artist_name):\n",
    "    result = sp.search(q='artist:' + artist_name, type='artist')\n",
    "    if result['artists']['items']:\n",
    "        artist = result['artists']['items'][0]\n",
    "        return artist['followers']['total']\n",
    "    else:\n",
    "        return f\"Artist {artist_name} not found.\"\n",
    "\n",
    "\n",
    "        # Fonction pour rechercher artiste et obtenir informations\n",
    "def get_artist_details(artist_name):\n",
    "    result = sp.search(q='artist:' + artist_name, type='artist')\n",
    "    if result['artists']['items']:\n",
    "        artist = result['artists']['items'][0]\n",
    "        artist_uri = artist['uri']\n",
    "        artist_info = sp.artist(artist_uri)\n",
    "        return {\n",
    "            'Name': artist_info['name'],\n",
    "            'Popularity': artist_info['popularity'],\n",
    "            'Followers': artist_info['followers']['total'],\n",
    "            'Genres': artist_info['genres'],\n",
    "            'ID': artist_info['id'],\n",
    "            'URI': artist_uri\n",
    "        }\n",
    "    else:\n",
    "        return f\"Artiste {artist_name} non trouvé.\"\n",
    "\n",
    "# Fonction pour estimer les auditeurs mensuels basés sur la popularité\n",
    "# Note: Cela ne donnera qu'une estimation basée sur une heuristique commune, non officiel\n",
    "def estimate_monthly_listeners(popularity):\n",
    "    base_listeners = 100000  # Basez cela sur la moyenne normale pour comprendre l'écouter par popularité score\n",
    "    return base_listeners * (popularity / 100.0)\n",
    "\n",
    "# Example usage\n",
    "artist_name = 'Nirvana'\n",
    "# monthly_listeners = get_monthly_listeners(artist_name)\n",
    "monthly_followers = get_monthly_followers(artist_name)\n",
    "\n",
    "# print(f'Monthly listeners for {artist_name}: {monthly_listeners}')\n",
    "print(f'Monthly followers for {artist_name}: {monthly_followers}')\n",
    "get_artist_details(artist_name)"
   ]
  },
  {
   "cell_type": "code",
   "execution_count": null,
   "id": "cf3c96d1-af0f-4278-b7e2-042a9bf9bc82",
   "metadata": {},
   "outputs": [],
   "source": []
  }
 ],
 "metadata": {
  "kernelspec": {
   "display_name": "venv",
   "language": "python",
   "name": "venv"
  },
  "language_info": {
   "codemirror_mode": {
    "name": "ipython",
    "version": 3
   },
   "file_extension": ".py",
   "mimetype": "text/x-python",
   "name": "python",
   "nbconvert_exporter": "python",
   "pygments_lexer": "ipython3",
   "version": "3.12.4"
  }
 },
 "nbformat": 4,
 "nbformat_minor": 5
}
