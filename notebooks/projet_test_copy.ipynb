{
 "cells": [
  {
   "cell_type": "code",
   "execution_count": 1,
   "id": "b0ee0dad-ac00-4860-877f-55efd8a06ba2",
   "metadata": {},
   "outputs": [
    {
     "name": "stdout",
     "output_type": "stream",
     "text": [
      "              Artist                    Track  mean_millennial_recognition  \\\n",
      "0                702       Where My Girls At?                     0.553481   \n",
      "1       Adina Howard            Freak Like Me                     0.207478   \n",
      "2  Alanis Morissette                   Ironic                     0.887612   \n",
      "3      Alannah Myles             Black Velvet                     0.621799   \n",
      "4              Alias  More Than Words Can Say                     0.075031   \n",
      "\n",
      "   mean_gen_z_recognition Duration  Danceability  Energy    Tempo  Popularity  \n",
      "0                0.244176     2:46         0.705   0.725   92.186          60  \n",
      "1                0.139892     4:13         0.655   0.837   91.014          58  \n",
      "2                0.587672     3:50         0.408   0.582  114.926          75  \n",
      "3                0.395484     4:47         0.750   0.366   91.138          72  \n",
      "4                0.107534     3:54         0.412   0.376   69.064          50  \n",
      "<class 'pandas.core.frame.DataFrame'>\n",
      "Index: 199 entries, 0 to 201\n",
      "Data columns (total 9 columns):\n",
      " #   Column                       Non-Null Count  Dtype  \n",
      "---  ------                       --------------  -----  \n",
      " 0   Artist                       199 non-null    object \n",
      " 1   Track                        199 non-null    object \n",
      " 2   mean_millennial_recognition  199 non-null    float64\n",
      " 3   mean_gen_z_recognition       199 non-null    float64\n",
      " 4   Duration                     199 non-null    object \n",
      " 5   Danceability                 199 non-null    float64\n",
      " 6   Energy                       199 non-null    float64\n",
      " 7   Tempo                        199 non-null    float64\n",
      " 8   Popularity                   199 non-null    int64  \n",
      "dtypes: float64(5), int64(1), object(3)\n",
      "memory usage: 15.5+ KB\n",
      "None\n"
     ]
    }
   ],
   "source": [
    "import pandas as pd\n",
    "\n",
    "# Step 1: Load the Datasets\n",
    "d2 = pd.read_csv(\"1990sClassicHits.csv\")\n",
    "d1 = pd.read_csv(\"recognition_by_generation.csv\")\n",
    "\n",
    "# Step 2: Clean the Data\n",
    "# Forward fill and drop duplicates\n",
    "d2 = d2.ffill().drop_duplicates()\n",
    "d1 = d1.ffill().drop_duplicates()\n",
    "\n",
    "# Step 3: Prepare for Merging\n",
    "# Standardize column names\n",
    "d1.rename(columns={'artist': 'Artist', 'song': 'Track'}, inplace=True)\n",
    "\n",
    "# Select relevant columns from d2, including Duration\n",
    "d2 = d2[['Track', 'Artist', 'Duration', 'Danceability', 'Energy', 'Tempo', 'Popularity']]\n",
    "\n",
    "# Step 4: Merge the Datasets\n",
    "# Merge on 'Artist' and 'Track' and keep only matching songs (inner join)\n",
    "d3 = pd.merge(d1, d2, on=['Artist', 'Track'], how='inner')\n",
    "\n",
    "# Step 5: Final Clean-up\n",
    "# Drop any remaining duplicates just in case\n",
    "d3 = d3.drop_duplicates()\n",
    "\n",
    "# Show the result of the merged DataFrame (d3), including the Duration column\n",
    "print(d3.head())\n",
    "print(d3.info())"
   ]
  },
  {
   "cell_type": "code",
   "execution_count": null,
   "id": "d5c74411-ae9b-4c0d-a2c4-459b10797514",
   "metadata": {},
   "outputs": [],
   "source": []
  }
 ],
 "metadata": {
  "kernelspec": {
   "display_name": "Python 3 (ipykernel)",
   "language": "python",
   "name": "python3"
  },
  "language_info": {
   "codemirror_mode": {
    "name": "ipython",
    "version": 3
   },
   "file_extension": ".py",
   "mimetype": "text/x-python",
   "name": "python",
   "nbconvert_exporter": "python",
   "pygments_lexer": "ipython3",
   "version": "3.12.4"
  }
 },
 "nbformat": 4,
 "nbformat_minor": 5
}
