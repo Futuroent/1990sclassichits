{
 "cells": [
  {
   "cell_type": "code",
   "execution_count": null,
   "id": "58548233-6194-4561-bbcc-1f069434506b",
   "metadata": {},
   "outputs": [],
   "source": [
    "import requests\n",
    "from spotipy import Spotify\n",
    "from spotipy.oauth2 import SpotifyClientCredentials\n",
    "\n",
    "client_id = '603946219755489fb6f630fdc8836113'\n",
    "client_secret = 'a1cee47a6da74874a7623e9d9764beae'\n",
    "\n",
    "auth_manager = SpotifyClientCredentials(client_id=client_id, client_secret=client_secret)\n",
    "sp = Spotify(auth_manager=auth_manager)\n",
    "\n",
    "# Function to get monthly followers for a given artist name\n",
    "def get_monthly_followers(artist_name):\n",
    "    result = sp.search(q='artist:' + artist_name, type='artist')\n",
    "    if result['artists']['items']:\n",
    "        artist = result['artists']['items'][0]\n",
    "        return artist['followers']['total']\n",
    "    else:\n",
    "        return f\"Artist {artist_name} not found.\"\n",
    "\n",
    "\n",
    "        # Fonction pour rechercher artiste et obtenir informations\n",
    "def get_artist_details(artist_name):\n",
    "    result = sp.search(q='artist:' + artist_name, type='artist')\n",
    "    if result['artists']['items']:\n",
    "        artist = result['artists']['items'][0]\n",
    "        artist_uri = artist['uri']\n",
    "        artist_info = sp.artist(artist_uri)\n",
    "        return {\n",
    "            'Name': artist_info['name'],\n",
    "            'Popularity': artist_info['popularity'],\n",
    "            'Followers': artist_info['followers']['total'],\n",
    "            'Genres': artist_info['genres'],\n",
    "            'ID': artist_info['id'],\n",
    "            'URI': artist_uri\n",
    "        }\n",
    "    else:\n",
    "        return f\"Artiste {artist_name} non trouvé.\"\n",
    "\n",
    "# Fonction pour estimer les auditeurs mensuels basés sur la popularité\n",
    "# Note: Cela ne donnera qu'une estimation basée sur une heuristique commune, non officiel\n",
    "def estimate_monthly_listeners(popularity):\n",
    "    base_listeners = 100000  # Basez cela sur la moyenne normale pour comprendre l'écouter par popularité score\n",
    "    return base_listeners * (popularity / 100.0)\n",
    "\n",
    "# Example usage\n",
    "artist_name = 'Nirvana'\n",
    "# monthly_listeners = get_monthly_listeners(artist_name)\n",
    "monthly_followers = get_monthly_followers(artist_name)\n",
    "\n",
    "# print(f'Monthly listeners for {artist_name}: {monthly_listeners}')\n",
    "print(f'Monthly followers for {artist_name}: {monthly_followers}')\n",
    "get_artist_details(artist_name)"
   ]
  },
  {
   "cell_type": "code",
   "execution_count": null,
   "id": "cf3c96d1-af0f-4278-b7e2-042a9bf9bc82",
   "metadata": {},
   "outputs": [],
   "source": []
  }
 ],
 "metadata": {
  "kernelspec": {
   "display_name": "venv",
   "language": "python",
   "name": "venv"
  },
  "language_info": {
   "codemirror_mode": {
    "name": "ipython",
    "version": 3
   },
   "file_extension": ".py",
   "mimetype": "text/x-python",
   "name": "python",
   "nbconvert_exporter": "python",
   "pygments_lexer": "ipython3",
   "version": "3.12.4"
  }
 },
 "nbformat": 4,
 "nbformat_minor": 5
}
